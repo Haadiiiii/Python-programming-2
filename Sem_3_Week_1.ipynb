{
  "nbformat": 4,
  "nbformat_minor": 0,
  "metadata": {
    "colab": {
      "provenance": [],
      "collapsed_sections": []
    },
    "kernelspec": {
      "name": "python3",
      "display_name": "Python 3"
    },
    "language_info": {
      "name": "python"
    }
  },
  "cells": [
    {
      "cell_type": "code",
      "execution_count": null,
      "metadata": {
        "id": "icFfPxNjLROz"
      },
      "outputs": [],
      "source": [
        "#SECTION A"
      ]
    },
    {
      "cell_type": "code",
      "source": [
        "print(\"Hello Python\")"
      ],
      "metadata": {
        "colab": {
          "base_uri": "https://localhost:8080/"
        },
        "id": "WWaLTGNELf62",
        "outputId": "0b439f6b-b56f-40b1-b1d6-143a16969712"
      },
      "execution_count": null,
      "outputs": [
        {
          "output_type": "stream",
          "name": "stdout",
          "text": [
            "Hello Python\n"
          ]
        }
      ]
    },
    {
      "cell_type": "code",
      "source": [
        "a= int(input(\"Enter your number \" ))\n",
        "b= int(input(\"Enter your second number \" ))\n",
        "c = a + b\n",
        "print(c)"
      ],
      "metadata": {
        "colab": {
          "base_uri": "https://localhost:8080/"
        },
        "id": "ccMmEaU_L1T6",
        "outputId": "4a5680de-9785-4a4e-bf46-8c5617e95539"
      },
      "execution_count": null,
      "outputs": [
        {
          "output_type": "stream",
          "name": "stdout",
          "text": [
            "Enter your number 1\n",
            "Enter your second number 2\n",
            "3\n"
          ]
        }
      ]
    },
    {
      "cell_type": "code",
      "source": [
        "a= int(input(\"Enter your number \" ))\n",
        "b= int(input(\"Enter your second number \" ))\n",
        "c = a / b\n",
        "print(c)"
      ],
      "metadata": {
        "colab": {
          "base_uri": "https://localhost:8080/"
        },
        "id": "jgiLEKNRNND_",
        "outputId": "ec4480f5-71f7-4fd8-dd91-7c5f4de5d374"
      },
      "execution_count": null,
      "outputs": [
        {
          "output_type": "stream",
          "name": "stdout",
          "text": [
            "Enter your number 2\n",
            "Enter your second number 2\n",
            "1.0\n"
          ]
        }
      ]
    },
    {
      "cell_type": "code",
      "source": [
        "a= int(input(\"Enter your base \" ))\n",
        "b= int(input(\"Enter your Height \" ))\n",
        "c= 0.5*a*b\n",
        "print(c)"
      ],
      "metadata": {
        "colab": {
          "base_uri": "https://localhost:8080/"
        },
        "id": "tO2ZcgVbNSG4",
        "outputId": "8c650be9-a2b9-4d3a-e94d-fbcfc3055d04"
      },
      "execution_count": null,
      "outputs": [
        {
          "output_type": "stream",
          "name": "stdout",
          "text": [
            "Enter your base 2\n",
            "Enter your Height 3\n",
            "3.0\n"
          ]
        }
      ]
    },
    {
      "cell_type": "code",
      "source": [
        "x = int(input(\"Enter your number \" ))\n",
        "y = int(input(\"Enter your second number \" ))\n",
        "\n",
        "y,x = x,y\n",
        "print(\"x =\", x)\n",
        "print(\"y =\", y)"
      ],
      "metadata": {
        "colab": {
          "base_uri": "https://localhost:8080/"
        },
        "id": "3d9XObkeNmxQ",
        "outputId": "eef2a7b7-b23b-4087-9b8a-8013093fcc78"
      },
      "execution_count": null,
      "outputs": [
        {
          "output_type": "stream",
          "name": "stdout",
          "text": [
            "Enter your number 1\n",
            "Enter your second number 2\n",
            "x = 2\n",
            "y = 1\n"
          ]
        }
      ]
    },
    {
      "cell_type": "code",
      "source": [],
      "metadata": {
        "id": "h31isXYCX9UE"
      },
      "execution_count": null,
      "outputs": []
    },
    {
      "cell_type": "code",
      "source": [
        "import random\n",
        "\n",
        "print(random.randint(0,9))"
      ],
      "metadata": {
        "colab": {
          "base_uri": "https://localhost:8080/"
        },
        "id": "bcXvIJy6PZj-",
        "outputId": "736da2fe-b32b-4eb8-fbe0-52f6898d742a"
      },
      "execution_count": null,
      "outputs": [
        {
          "output_type": "stream",
          "name": "stdout",
          "text": [
            "8\n"
          ]
        }
      ]
    },
    {
      "cell_type": "code",
      "source": [
        "#Section B"
      ],
      "metadata": {
        "id": "CRQIS-psQ65j"
      },
      "execution_count": null,
      "outputs": []
    },
    {
      "cell_type": "code",
      "source": [
        "x = int(input(\"Enter your number \" ))\n",
        "print (x*0.621371  , \"miles\")"
      ],
      "metadata": {
        "colab": {
          "base_uri": "https://localhost:8080/"
        },
        "id": "1gTI9fxrRJJ0",
        "outputId": "f51d0520-2967-4d6d-9383-d4e4fac7c276"
      },
      "execution_count": null,
      "outputs": [
        {
          "output_type": "stream",
          "name": "stdout",
          "text": [
            "Enter your number 100\n",
            "62.137100000000004 miles\n"
          ]
        }
      ]
    },
    {
      "cell_type": "code",
      "source": [
        "x = int(input(\"Enter your number \" ))\n",
        "print (x*32  , \"fahrenheit\")"
      ],
      "metadata": {
        "colab": {
          "base_uri": "https://localhost:8080/"
        },
        "id": "mdEiebfUSB4K",
        "outputId": "e2425abd-c7ca-4ee7-a9d9-b7e4f469a6c2"
      },
      "execution_count": null,
      "outputs": [
        {
          "output_type": "stream",
          "name": "stdout",
          "text": [
            "Enter your number 1\n",
            "32 fahrenheit\n"
          ]
        }
      ]
    },
    {
      "cell_type": "code",
      "source": [
        "import calendar\n",
        "yy = int(input(\"Enter year: \"))\n",
        "\n",
        "\n",
        "# display the calendar\n",
        "print(calendar.calendar(yy))"
      ],
      "metadata": {
        "colab": {
          "base_uri": "https://localhost:8080/"
        },
        "id": "oytInEJHSjcO",
        "outputId": "d44e910e-802f-4337-e34b-c376feca86e7"
      },
      "execution_count": null,
      "outputs": [
        {
          "output_type": "stream",
          "name": "stdout",
          "text": [
            "Enter year: 2022\n",
            "                                  2022\n",
            "\n",
            "      January                   February                   March\n",
            "Mo Tu We Th Fr Sa Su      Mo Tu We Th Fr Sa Su      Mo Tu We Th Fr Sa Su\n",
            "                1  2          1  2  3  4  5  6          1  2  3  4  5  6\n",
            " 3  4  5  6  7  8  9       7  8  9 10 11 12 13       7  8  9 10 11 12 13\n",
            "10 11 12 13 14 15 16      14 15 16 17 18 19 20      14 15 16 17 18 19 20\n",
            "17 18 19 20 21 22 23      21 22 23 24 25 26 27      21 22 23 24 25 26 27\n",
            "24 25 26 27 28 29 30      28                        28 29 30 31\n",
            "31\n",
            "\n",
            "       April                      May                       June\n",
            "Mo Tu We Th Fr Sa Su      Mo Tu We Th Fr Sa Su      Mo Tu We Th Fr Sa Su\n",
            "             1  2  3                         1             1  2  3  4  5\n",
            " 4  5  6  7  8  9 10       2  3  4  5  6  7  8       6  7  8  9 10 11 12\n",
            "11 12 13 14 15 16 17       9 10 11 12 13 14 15      13 14 15 16 17 18 19\n",
            "18 19 20 21 22 23 24      16 17 18 19 20 21 22      20 21 22 23 24 25 26\n",
            "25 26 27 28 29 30         23 24 25 26 27 28 29      27 28 29 30\n",
            "                          30 31\n",
            "\n",
            "        July                     August                  September\n",
            "Mo Tu We Th Fr Sa Su      Mo Tu We Th Fr Sa Su      Mo Tu We Th Fr Sa Su\n",
            "             1  2  3       1  2  3  4  5  6  7                1  2  3  4\n",
            " 4  5  6  7  8  9 10       8  9 10 11 12 13 14       5  6  7  8  9 10 11\n",
            "11 12 13 14 15 16 17      15 16 17 18 19 20 21      12 13 14 15 16 17 18\n",
            "18 19 20 21 22 23 24      22 23 24 25 26 27 28      19 20 21 22 23 24 25\n",
            "25 26 27 28 29 30 31      29 30 31                  26 27 28 29 30\n",
            "\n",
            "      October                   November                  December\n",
            "Mo Tu We Th Fr Sa Su      Mo Tu We Th Fr Sa Su      Mo Tu We Th Fr Sa Su\n",
            "                1  2          1  2  3  4  5  6                1  2  3  4\n",
            " 3  4  5  6  7  8  9       7  8  9 10 11 12 13       5  6  7  8  9 10 11\n",
            "10 11 12 13 14 15 16      14 15 16 17 18 19 20      12 13 14 15 16 17 18\n",
            "17 18 19 20 21 22 23      21 22 23 24 25 26 27      19 20 21 22 23 24 25\n",
            "24 25 26 27 28 29 30      28 29 30                  26 27 28 29 30 31\n",
            "31\n",
            "\n"
          ]
        }
      ]
    },
    {
      "cell_type": "code",
      "source": [
        "import cmath\n",
        "\n",
        "a = 1\n",
        "b = 5\n",
        "c = 6\n",
        "\n",
        "# calculate the discriminant\n",
        "d = (b**2) - (4*a*c)\n",
        "\n",
        "# find two solutions\n",
        "sol1 = (-b-cmath.sqrt(d))/(2*a)\n",
        "sol2 = (-b+cmath.sqrt(d))/(2*a)\n",
        "print('The solution are {0} and {1}'.format(sol1,sol2))"
      ],
      "metadata": {
        "colab": {
          "base_uri": "https://localhost:8080/"
        },
        "id": "qjcllqejUkpO",
        "outputId": "a671c3af-27e4-43f8-f85c-5c6a67792a81"
      },
      "execution_count": null,
      "outputs": [
        {
          "output_type": "stream",
          "name": "stdout",
          "text": [
            "The solution are (-3+0j) and (-2+0j)\n"
          ]
        }
      ]
    },
    {
      "cell_type": "code",
      "source": [
        "x = int(input(\"Enter your number \" ))\n",
        "y = int(input(\"Enter your second number \" ))\n",
        "\n",
        "y,x = x,y\n",
        "print(\"x =\", x)\n",
        "print(\"y =\", y)"
      ],
      "metadata": {
        "colab": {
          "base_uri": "https://localhost:8080/"
        },
        "id": "VarVL9sZXulD",
        "outputId": "e2feb9fb-b7c0-4d96-f09f-a33ab574bfde"
      },
      "execution_count": null,
      "outputs": [
        {
          "output_type": "stream",
          "name": "stdout",
          "text": [
            "Enter your number 1\n",
            "Enter your second number 3\n",
            "x = 3\n",
            "y = 1\n"
          ]
        }
      ]
    },
    {
      "cell_type": "code",
      "source": [
        "#SECTION C"
      ],
      "metadata": {
        "id": "ZsOL2BSvYGnz"
      },
      "execution_count": null,
      "outputs": []
    },
    {
      "cell_type": "code",
      "source": [
        "x = int(input(\"Enter your number \" ))\n",
        "if x>0:\n",
        "  print(\"number is positive\")\n",
        "elif x<0:\n",
        "  print(\"number is negative\")\n",
        "else:\n",
        "  print(\"number is zero\")"
      ],
      "metadata": {
        "colab": {
          "base_uri": "https://localhost:8080/"
        },
        "id": "yetdgMRcYJlx",
        "outputId": "0241f2d8-1f48-4938-ee42-84a0e1faf136"
      },
      "execution_count": null,
      "outputs": [
        {
          "output_type": "stream",
          "name": "stdout",
          "text": [
            "Enter your number 0\n",
            "number is zero\n"
          ]
        }
      ]
    },
    {
      "cell_type": "code",
      "source": [
        "num = int(input(\"Enter a number: \"))\n",
        "if (num % 2) == 0:\n",
        "   print(\"{0} is Even\".format(num))\n",
        "else:\n",
        "   print(\"{0} is Odd\".format(num))"
      ],
      "metadata": {
        "colab": {
          "base_uri": "https://localhost:8080/"
        },
        "id": "dzqwZusEZwoB",
        "outputId": "e347f8b7-d18e-4b39-ca08-bcc6cbda422a"
      },
      "execution_count": null,
      "outputs": [
        {
          "output_type": "stream",
          "name": "stdout",
          "text": [
            "1\n"
          ]
        }
      ]
    },
    {
      "cell_type": "code",
      "source": [
        "num = int(input(\"Enter a number: \"))\n",
        "if (num % 4) == 0:\n",
        "   print(\"{0} is leap\".format(num))\n",
        "else:\n",
        "   print(\"{0} is not leap\".format(num))"
      ],
      "metadata": {
        "colab": {
          "base_uri": "https://localhost:8080/"
        },
        "id": "2nn8ZEHAapNE",
        "outputId": "de378bb7-9e97-4f94-94c8-f0bb80e3ef87"
      },
      "execution_count": null,
      "outputs": [
        {
          "output_type": "stream",
          "name": "stdout",
          "text": [
            "Enter a number: 2024\n",
            "2024 is leap\n"
          ]
        }
      ]
    },
    {
      "cell_type": "code",
      "source": [
        "# Program to check if a number is prime or not\n",
        "\n",
        "num = int(input(\"Enter your number: \"))\n",
        "\n",
        "# To take input from the user\n",
        "#num = int(input(\"Enter a number: \"))\n",
        "\n",
        "# prime numbers are greater than 1\n",
        "if num > 1:\n",
        "   # check for factors\n",
        "   for i in range(2,num):\n",
        "       if (num % i) == 0:\n",
        "           print(num,\"is not a prime number\")\n",
        "           print(i,\"times\",num//i,\"is\",num)\n",
        "           break\n",
        "   else:\n",
        "       print(num,\"is a prime number\")\n",
        "       \n",
        "# if input number is less than\n",
        "# or equal to 1, it is not prime\n",
        "else:\n",
        "   print(num,\"is not a prime number\")"
      ],
      "metadata": {
        "id": "CMsNaJsMa3ld",
        "colab": {
          "base_uri": "https://localhost:8080/"
        },
        "outputId": "3246214e-1dc4-4e38-9a47-a9705e77b527"
      },
      "execution_count": null,
      "outputs": [
        {
          "output_type": "stream",
          "name": "stdout",
          "text": [
            "Enter your number: 7\n",
            "7 is a prime number\n"
          ]
        }
      ]
    },
    {
      "cell_type": "code",
      "source": [
        "for num in range(1,10000+1):\n",
        "  if num>1:\n",
        "    for i in range(2,10000+1):\n",
        "      if num%i==0:\n",
        "        break\n",
        "      else:\n",
        "        print(num)"
      ],
      "metadata": {
        "id": "rKInrbwvNdMg"
      },
      "execution_count": null,
      "outputs": []
    },
    {
      "cell_type": "code",
      "source": [
        "#SECTION D"
      ],
      "metadata": {
        "id": "34IN70z0PBrO"
      },
      "execution_count": null,
      "outputs": []
    },
    {
      "cell_type": "code",
      "source": [
        "num = int(input(\"Enter your number: \"))\n",
        "factorial=1\n",
        "for i in range(1,num + 1):\n",
        "     factorial = factorial*i\n",
        "print(\"The factorial of\",num,\"is\",factorial)\n",
        "\n",
        "\n"
      ],
      "metadata": {
        "colab": {
          "base_uri": "https://localhost:8080/"
        },
        "id": "sFxdIe9ZPH-Z",
        "outputId": "3e1d5f02-71d4-4339-b08b-7834f6c9cdbe"
      },
      "execution_count": null,
      "outputs": [
        {
          "output_type": "stream",
          "name": "stdout",
          "text": [
            "Enter your number: 3\n",
            "The factorial of 3 is 6\n"
          ]
        }
      ]
    },
    {
      "cell_type": "code",
      "source": [
        "Write a Python Program to Display the multiplication Table?\n",
        "\n",
        "number = int(input())\n",
        "for i in range(1,11):\n",
        "  print(number,\" x \",i,\" = \",number*i)\n"
      ],
      "metadata": {
        "id": "FDzyZDqoWcTc"
      },
      "execution_count": null,
      "outputs": []
    },
    {
      "cell_type": "code",
      "source": [
        "\n",
        "\n",
        "    Write a Python Program to Print the Fibonacci sequence?\n",
        "\n",
        "nthterm = int(input())\n",
        "a = 0\n",
        "b = 1\n",
        "res = 0\n",
        "if nthterm <= 0 : \n",
        "  print(\"Not valid\")\n",
        "elif nthterm == 1:\n",
        "  print(a)\n",
        "else:\n",
        "  print(\"Fibonnaci Sequence: \")\n",
        "  while res < nthterm :\n",
        "    print(a)\n",
        "    nth= a + b\n",
        "    a = b \n",
        "    b = nth\n",
        "    res += 1\n",
        "\n"
      ],
      "metadata": {
        "id": "gyUSxFostqso"
      },
      "execution_count": null,
      "outputs": []
    },
    {
      "cell_type": "code",
      "source": [
        "\n",
        "\n",
        "    Write a Python Program to Check Armstrong Number?\n",
        "\n",
        "num = int(input(\"Enter a number: \"))\n",
        "sum = 0 \n",
        "temp = num \n",
        "while temp > 0:\n",
        "  digit = temp%10\n",
        "  sum += digit**3\n",
        "  temp = temp//10\n",
        "\n",
        "if num == sum:\n",
        "   print(num,\"is an Armstrong number\")\n",
        "else:\n",
        "   print(num,\"is not an Armstrong number\")\n",
        "\n",
        "    Write a Python Program to Find Armstrong Number in an Interval?\n",
        "\n",
        "lower  = int(input(\"enter the lower limit: \"))\n",
        "upper = int(input(\"enter the upper limit: \"))\n",
        "for i in range(lower, upper+1):\n",
        "  sum =0\n",
        "  num = i\n",
        "  while(i!=0):\n",
        "    digit=i%10\n",
        "    sum = sum + (digit**3)\n",
        "    i = i//10\n",
        "  if num == sum:\n",
        "    print(num)\n",
        "\n"
      ],
      "metadata": {
        "id": "xNqQb9IRtxoY"
      },
      "execution_count": null,
      "outputs": []
    },
    {
      "cell_type": "code",
      "source": [
        "\n",
        "\n",
        "    Write a Python Program to Find the Sum of Natural Numbers?\n",
        "\n",
        "def sumofn(n):\n",
        "   if n <= 1:\n",
        "       return n\n",
        "   else:\n",
        "       return n + sumofn(n-1)\n",
        "x = int(input(\"Enter a number: \"))\n",
        "res = sumofn(x)\n",
        "print(res)\n",
        "\n"
      ],
      "metadata": {
        "id": "COypelTtt3iP"
      },
      "execution_count": null,
      "outputs": []
    },
    {
      "cell_type": "code",
      "source": [
        "Section E:"
      ],
      "metadata": {
        "id": "Deo6T4Xdt5fl"
      },
      "execution_count": null,
      "outputs": []
    },
    {
      "cell_type": "code",
      "source": [
        "Write a Python Program to find sum of array?\n",
        "\n",
        "arr = [12, 3, 4, 15, 25]\n",
        "for i in arr:\n",
        "  sum += i\n",
        "print(sum)\n",
        "\n"
      ],
      "metadata": {
        "id": "Yu1DHWSit7dm"
      },
      "execution_count": null,
      "outputs": []
    },
    {
      "cell_type": "code",
      "source": [
        " Write a Python Program to find largest element in an array?\n",
        "\n",
        "arr = [12, 3, 4, 15, 25, 923]\n",
        "largest = 0\n",
        "for i in range(len(arr)):\n",
        "  if arr[i] > largest:\n",
        "    largest = arr[i]\n",
        "print(largest)\n",
        "\n"
      ],
      "metadata": {
        "id": "lfpUjhdSuA9G"
      },
      "execution_count": null,
      "outputs": []
    },
    {
      "cell_type": "code",
      "source": [
        " Write a Python Program for array rotation?\n",
        "\n",
        "arr = [1, 2, 3, 4, 5]\n",
        "n = 2\n",
        "print(\"Original array\")\n",
        "for i in range(0,len(arr)):\n",
        "    print(arr[i])\n",
        "for i in range(0,n):\n",
        "    first = arr[0]\n",
        "    for j in range(0,len(arr)-1):\n",
        "        arr[j] =  arr[j+1]\n",
        "    arr[len(arr) - 1] = first\n",
        "\n",
        "print(\"Array after left rotation: \")\n",
        "for i in range(0, len(arr)):\n",
        "    print(arr[i])\n",
        "\n"
      ],
      "metadata": {
        "id": "m0RIO5ELuClM"
      },
      "execution_count": null,
      "outputs": []
    },
    {
      "cell_type": "code",
      "source": [
        " Write a Python Program to Split the array and add the first part to the end?\n",
        "\n",
        "def split(arr, k):\n",
        "    arr = arr[k:] + arr[:k]\n",
        "    return arr\n",
        "   \n",
        "k = 2\n",
        "arr = [10, 13, 5, 17]\n",
        "print(\"Output array is\", split(arr, k))\n",
        "\n"
      ],
      "metadata": {
        "id": "x3XgpbxDQ9F-"
      },
      "execution_count": null,
      "outputs": []
    },
    {
      "cell_type": "code",
      "source": [
        "Write a Python Program to check if given array is Monotonic?\n",
        "\n",
        "def isMonotonic(A):\n",
        "   return (all(A[i] <= A[i + 1] for i in range(len(A) - 1)) or\n",
        "      all(A[i] >= A[i + 1] for i in range(len(A) - 1)))\n",
        "A = [1,2,3,4,7,8]\n",
        "print(isMonotonic(A))\n",
        "\n"
      ],
      "metadata": {
        "id": "6PEYznA3uJez"
      },
      "execution_count": null,
      "outputs": []
    },
    {
      "cell_type": "code",
      "source": [
        "Section F:"
      ],
      "metadata": {
        "id": "bCSINGUXuPIO"
      },
      "execution_count": null,
      "outputs": []
    },
    {
      "cell_type": "code",
      "source": [
        "Write a Python program to find sum of elements in list?\n",
        "\n",
        "list = [1, 2, 3, 1, 2, 5]\n",
        "sum = 0\n",
        "for i in list:\n",
        "  sum += i\n",
        "print(sum)\n",
        "\n"
      ],
      "metadata": {
        "id": "rEhXglkeuP6L"
      },
      "execution_count": null,
      "outputs": []
    },
    {
      "cell_type": "code",
      "source": [
        "Write a Python program to Multiply all numbers in the list?\n",
        "\n",
        "list = [1, 2, 3, 1, 2, 5]\n",
        "product = 1\n",
        "for i in list:\n",
        "  product *= i\n",
        "print(product)\n",
        "\n"
      ],
      "metadata": {
        "id": "KpK2y5BuuU4c"
      },
      "execution_count": null,
      "outputs": []
    },
    {
      "cell_type": "code",
      "source": [
        "Write a Python program to find smallest number in a list?\n",
        "\n",
        "list1 = [10, 20, 1, 45, 99]\n",
        "list1.sort()\n",
        "print(list1[:1])\n",
        "\n"
      ],
      "metadata": {
        "id": "hcKEkf1uuYcr"
      },
      "execution_count": null,
      "outputs": []
    },
    {
      "cell_type": "code",
      "source": [
        "Write a Python program to find largest number in a list?\n",
        "\n",
        "list1 = [10, 20, 1, 45, 99]\n",
        "list1.sort()\n",
        "print(list1[-1:])\n",
        "\n"
      ],
      "metadata": {
        "id": "8EnneaQoubHi"
      },
      "execution_count": null,
      "outputs": []
    },
    {
      "cell_type": "code",
      "source": [
        "Write a Python program to find second largest number in a list?\n",
        "\n",
        "list1 = [10, 20, 1, 45, 99]\n",
        "list1.sort()\n",
        "print(list1[-2:-1])\n",
        "\n"
      ],
      "metadata": {
        "id": "iE68bj2JuduC"
      },
      "execution_count": null,
      "outputs": []
    },
    {
      "cell_type": "code",
      "source": [
        "Write a Python program to find N largest elements from a list?\n",
        "\n",
        "def function1(lis, N):\n",
        "    list2 = []\n",
        "\n",
        "    for i in range(0, N):\n",
        "        max1 = 0\n",
        "\n",
        "        for j in range(len(lis)):\n",
        "            if list1[j] > max1:\n",
        "                max1 = list1[j];\n",
        "\n",
        "        list1.remove(max1)\n",
        "        list2.append(max1)\n",
        "\n",
        "    print(list2)\n",
        "\n",
        "\n",
        "list1 = [22, 26, 41, 985, 0, 3, 17, 66, 10]\n",
        "N = int(input())\n",
        "function1(list1, N)\n",
        "\n"
      ],
      "metadata": {
        "id": "i6-2YBAtug_S"
      },
      "execution_count": null,
      "outputs": []
    },
    {
      "cell_type": "code",
      "source": [
        "Write a Python program to print even numbers in a list?\n",
        "\n",
        "list1 = [10, 20, 1, 45, 99]\n",
        "for i in list1:\n",
        "  if i%2 == 0:\n",
        "    print(i)\n",
        "\n"
      ],
      "metadata": {
        "id": "txYzi1RUus5i"
      },
      "execution_count": null,
      "outputs": []
    },
    {
      "cell_type": "code",
      "source": [
        "Write a Python program to print odd numbers in a List?\n",
        "\n",
        "list1 = [10, 20, 1, 45, 99]\n",
        "for i in list1:\n",
        "  if i%2 != 0:\n",
        "    print(i)\n",
        "\n"
      ],
      "metadata": {
        "id": "ZkGJfVDxuwiq"
      },
      "execution_count": null,
      "outputs": []
    },
    {
      "cell_type": "code",
      "source": [
        "Write a Python program to Remove empty List from List?\n",
        "\n",
        "list2 = [10, 20, 1, 45, 99, [] ,984 , [] , 23, [3,4]]\n",
        "\n",
        "newlist = []\n",
        "for i in list2:\n",
        "  if i:\n",
        "    newlist.append(i)\n",
        "print(newlist)\n",
        "\n"
      ],
      "metadata": {
        "id": "AwuePMcguy4y"
      },
      "execution_count": null,
      "outputs": []
    },
    {
      "cell_type": "code",
      "source": [
        "Write a Python program to Cloning or Copying a list?\n",
        "\n",
        "list3 = [10, 22, 44, 23, 4, 34]\n",
        "new_list = list3.copy()\n",
        "print(list3)\n",
        "print(new_list)\n",
        "\n"
      ],
      "metadata": {
        "id": "eYEYBvnAu16C"
      },
      "execution_count": null,
      "outputs": []
    },
    {
      "cell_type": "code",
      "source": [
        "Write a Python program to Count occurrences of an element in a list?\n",
        "\n",
        "list3 = [10, 22, 44, 23, 4, 34, 10, 10, 10 , 10]\n",
        "x = 10\n",
        "y = []\n",
        "for i in list3:\n",
        "  if i == x:\n",
        "    y.append(i)\n",
        "\n",
        "print(\"int 10 is repeated:\",len(y),\"times\")\n",
        "\n"
      ],
      "metadata": {
        "id": "kLe6Hwipu5b0"
      },
      "execution_count": null,
      "outputs": []
    }
  ]
}